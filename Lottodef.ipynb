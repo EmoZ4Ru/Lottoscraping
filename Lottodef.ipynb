{
 "cells": [
  {
   "cell_type": "code",
   "execution_count": null,
   "metadata": {},
   "outputs": [],
   "source": [
    "import requests\n",
    "import bs4\n",
    "from bs4 import BeautifulSoup"
   ]
  },
  {
   "cell_type": "code",
   "execution_count": null,
   "metadata": {},
   "outputs": [],
   "source": [
    "lotto= {}"
   ]
  },
  {
   "cell_type": "code",
   "execution_count": null,
   "metadata": {},
   "outputs": [],
   "source": [
    "def lottoresult(x):\n",
    "    \n",
    "    url= f'https://www.amarintv.com/lotto/{x}'\n",
    "    \n",
    "    r1=requests.get(url)\n",
    "    s=BeautifulSoup(r1.text, 'lxml')\n",
    "\n",
    "    d1=s.select('div.lottery-box')\n",
    "    d2=s.select('div.lottery-detail')\n",
    "\n",
    "    lottery_num =d1[0].select('span')\n",
    "    first= [lottery_num[0].text]\n",
    "    before3= [lottery_num[1].text,lottery_num[2].text]\n",
    "    after3= [lottery_num[3].text,lottery_num[4].text]\n",
    "    after2= [lottery_num[5].text]\n",
    "\n",
    "\n",
    "    lottery_other = d2[0].select('div.inner')\n",
    "\n",
    "    lottery_other[0].select('span')\n",
    "    nofirst=[]\n",
    "    for e in lottery_other[0].select('span'):\n",
    "        nofirst.append(e.text)\n",
    "\n",
    "    second=[]\n",
    "    lottery_other[1].select('span')\n",
    "    for e in lottery_other[1].select('span'):\n",
    "        second.append(e.text)\n",
    "\n",
    "    third=[]\n",
    "    lottery_other[2].select('span')\n",
    "    for e in lottery_other[2].select('span'):\n",
    "        third.append(e.text)\n",
    "\n",
    "    fourth=[]\n",
    "    lottery_other[3].select('span')\n",
    "    for e in lottery_other[3].select('span'):\n",
    "        fourth.append(e.text)\n",
    "\n",
    "    fifth=[]\n",
    "    lottery_other[4].select('span')\n",
    "    for e in lottery_other[4].select('span'):\n",
    "        fifth.append(e.text)\n",
    "\n",
    "\n",
    "    n={}\n",
    "    n[\"1st\"] = first\n",
    "    n[\"1no\"] = nofirst\n",
    "    n[\"2nd\"] = second\n",
    "    n[\"3rd\"] = third\n",
    "    n[\"4th\"] = fourth\n",
    "    n[\"5th\"] = fifth\n",
    "    n[\"3be\"] = before3\n",
    "    n[\"3af\"] = after3\n",
    "    n[\"2af\"] = after2\n",
    "    lotto[f'{x}'] = n\n",
    "\n",
    "    return lotto[f'{x}']\n",
    "\n",
    "    "
   ]
  },
  {
   "cell_type": "code",
   "execution_count": null,
   "metadata": {},
   "outputs": [],
   "source": [
    "x = str(input(\"งวดที่ออก(ค.ศ.) yyyy-mm-dd: \"))\n",
    "\n",
    "lottoresult(x)\n"
   ]
  },
  {
   "cell_type": "code",
   "execution_count": null,
   "metadata": {},
   "outputs": [],
   "source": [
    "print(lotto)"
   ]
  },
  {
   "cell_type": "code",
   "execution_count": null,
   "metadata": {},
   "outputs": [],
   "source": [
    "def check_1st(x,y):\n",
    "    if y in lotto[x][\"1st\"]:\n",
    "        return print(\"รางวัลที่ 1\",\": ถูกรางวัล\")\n",
    "    else:\n",
    "        return print(\"รางวัลที่ 1\",\": ไม่ถูกรางวัล\")\n",
    "def check_1no(x,y):\n",
    "    if y in lotto[x][\"1no\"]:\n",
    "        return print(\"รางวัลข้างเคียงที่ 1\",\": ถูกรางวัล\")\n",
    "    else:\n",
    "        return print(\"รางวัลข้างเคียงที่ 1\",\": ไม่ถูกรางวัล\")\n",
    "def check_2nd(x,y):\n",
    "    if y in lotto[x][\"2nd\"]:\n",
    "        return print(\"รางวัลที่ 2\",\": ถูกรางวัล\")\n",
    "    else:\n",
    "        return print(\"รางวัลที่ 2\",\": ไม่ถูกรางวัล\")\n",
    "def check_3rd(x,y):\n",
    "    if y in lotto[x][\"3rd\"]:\n",
    "        return print(\"รางวัลที่ 3\",\": ถูกรางวัล\")\n",
    "    else:\n",
    "        return print(\"รางวัลที่ 3\",\": ไม่ถูกรางวัล\")\n",
    "def check_4th(x,y):\n",
    "    if y in lotto[x][\"4th\"]:\n",
    "        return print(\"รางวัลที่ 4\",\": ถูกรางวัล\")\n",
    "    else:\n",
    "        return print(\"รางวัลที่ 4\",\": ไม่ถูกรางวัล\")\n",
    "def check_5th(x,y):\n",
    "    if y in lotto[x][\"3rd\"]:\n",
    "        return print(\"รางวัลที่ 5\",\": ถูกรางวัล\")\n",
    "    else:\n",
    "        return print(\"รางวัลที่ 5\",\": ไม่ถูกรางวัล\")\n",
    "        \n",
    "def check_3be(x,y):\n",
    "    z=list(y)\n",
    "    if z[0]+z[1]+z[2] in lotto[x][\"3be\"]:\n",
    "        return print(\"รางวัลเลขหน้า 3 ตัว\",\": ถูกรางวัล\")\n",
    "    else:\n",
    "        return print(\"รางวัลเลขหน้า 3 ตัว\",\": ไม่ถูกรางวัล\")\n",
    "def check_3af(x,y):\n",
    "    z=list(y)\n",
    "    if z[3]+z[4]+z[5] in lotto[x][\"3af\"]:\n",
    "        return print(\"รางวัลเลขท้าย 3 ตัว\",\": ถูกรางวัล\")\n",
    "    else:\n",
    "        return print(\"รางวัลเลขท้าย 3 ตัว\",\": ไม่ถูกรางวัล\")\n",
    "def check_2af(x,y):\n",
    "    z=list(y)\n",
    "    if z[4]+z[5] in lotto[x][\"2af\"]:\n",
    "        return print(\"รางวัลเลขท้าย 2 ตัว\",\": ถูกรางวัล\")\n",
    "    else:\n",
    "        return print(\"รางวัลเลขท้าย 2 ตัว\",\": ไม่ถูกรางวัล\")\n",
    "\n"
   ]
  },
  {
   "cell_type": "code",
   "execution_count": null,
   "metadata": {},
   "outputs": [],
   "source": [
    "d = input('งวดที่ออก(ค.ศ.) yyyy-mm-dd:')\n",
    "t = input('เลขสลาก 6 หลัก:')\n",
    "check_1st(d,t)\n",
    "check_1no(d,t)\n",
    "check_2nd(d,t)\n",
    "check_3rd(d,t)\n",
    "check_4th(d,t)\n",
    "check_5th(d,t)\n",
    "check_3be(d,t)\n",
    "check_3af(d,t)\n",
    "check_2af(d,t)"
   ]
  }
 ],
 "metadata": {
  "interpreter": {
   "hash": "a5055cf8dbec482c608d12f1cf9fb091b77541effa35f176a3529affcaaa155d"
  },
  "kernelspec": {
   "display_name": "Python 3.8.8 ('base')",
   "language": "python",
   "name": "python3"
  },
  "language_info": {
   "codemirror_mode": {
    "name": "ipython",
    "version": 3
   },
   "file_extension": ".py",
   "mimetype": "text/x-python",
   "name": "python",
   "nbconvert_exporter": "python",
   "pygments_lexer": "ipython3",
   "version": "3.8.8"
  },
  "orig_nbformat": 4
 },
 "nbformat": 4,
 "nbformat_minor": 2
}
